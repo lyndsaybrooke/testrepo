{
 "cells": [
  {
   "cell_type": "code",
   "execution_count": 1,
   "metadata": {},
   "outputs": [],
   "source": [
    "import pandas as pd\n",
    "import sklearn\n",
    "import numpy as np\n",
    "from sklearn.model_selection import train_test_split\n",
    "from sklearn.neural_network import MLPClassifier\n",
    "from sklearn.datasets import load_iris\n",
    "iris = load_iris()"
   ]
  },
  {
   "cell_type": "code",
   "execution_count": 2,
   "metadata": {},
   "outputs": [],
   "source": [
    "X_train, X_test, y_train, y_test = train_test_split(\n",
    "    iris['data'], iris['target'], random_state=0)"
   ]
  },
  {
   "cell_type": "code",
   "execution_count": 4,
   "metadata": {},
   "outputs": [
    {
     "name": "stdout",
     "output_type": "stream",
     "text": [
      "Accuracy on Training Set: 0.9732142857142857\n",
      "Accuracy on Test Set: 0.9473684210526315\n"
     ]
    },
    {
     "name": "stderr",
     "output_type": "stream",
     "text": [
      "C:\\Users\\lbmis\\Anaconda3\\lib\\site-packages\\sklearn\\neural_network\\multilayer_perceptron.py:562: ConvergenceWarning: Stochastic Optimizer: Maximum iterations (200) reached and the optimization hasn't converged yet.\n",
      "  % self.max_iter, ConvergenceWarning)\n"
     ]
    }
   ],
   "source": [
    "# Multilayer Perceprtrons applied to create the MLP model\n",
    "mlp=MLPClassifier(random_state=42)\n",
    "mlp.fit(X_train, y_train)\n",
    "\n",
    "print(\"Accuracy on Training Set:\", mlp.score(X_train, y_train))\n",
    "print(\"Accuracy on Test Set:\", mlp.score(X_test, y_test))"
   ]
  },
  {
   "cell_type": "code",
   "execution_count": 5,
   "metadata": {},
   "outputs": [
    {
     "name": "stdout",
     "output_type": "stream",
     "text": [
      "Accuracy on Training Set: 0.6964285714285714\n",
      "Accuracy on Test Set: 0.5789473684210527\n"
     ]
    },
    {
     "name": "stderr",
     "output_type": "stream",
     "text": [
      "C:\\Users\\lbmis\\Anaconda3\\lib\\site-packages\\sklearn\\neural_network\\multilayer_perceptron.py:562: ConvergenceWarning: Stochastic Optimizer: Maximum iterations (200) reached and the optimization hasn't converged yet.\n",
      "  % self.max_iter, ConvergenceWarning)\n"
     ]
    }
   ],
   "source": [
    "#First I will reduce the number of hidden layers to 10 from the default of 100 \n",
    "mlp=MLPClassifier(random_state=42, hidden_layer_sizes=[10])\n",
    "mlp.fit(X_train, y_train)\n",
    "\n",
    "print(\"Accuracy on Training Set:\", mlp.score(X_train, y_train))\n",
    "print(\"Accuracy on Test Set:\", mlp.score(X_test, y_test))"
   ]
  },
  {
   "cell_type": "code",
   "execution_count": 9,
   "metadata": {},
   "outputs": [
    {
     "name": "stdout",
     "output_type": "stream",
     "text": [
      "Accuracy on Training Set: 0.9821428571428571\n",
      "Accuracy on Test Set: 0.9473684210526315\n"
     ]
    },
    {
     "name": "stderr",
     "output_type": "stream",
     "text": [
      "C:\\Users\\lbmis\\Anaconda3\\lib\\site-packages\\sklearn\\neural_network\\multilayer_perceptron.py:562: ConvergenceWarning: Stochastic Optimizer: Maximum iterations (200) reached and the optimization hasn't converged yet.\n",
      "  % self.max_iter, ConvergenceWarning)\n"
     ]
    }
   ],
   "source": [
    "#This made the accuracy much worse, so I will increase the number of hidden layers\n",
    "mlp=MLPClassifier(random_state=42, hidden_layer_sizes=[120])\n",
    "mlp.fit(X_train, y_train)\n",
    "\n",
    "print(\"Accuracy on Training Set:\", mlp.score(X_train, y_train))\n",
    "print(\"Accuracy on Test Set:\", mlp.score(X_test, y_test))"
   ]
  },
  {
   "cell_type": "code",
   "execution_count": 10,
   "metadata": {},
   "outputs": [
    {
     "name": "stdout",
     "output_type": "stream",
     "text": [
      "Accuracy on Training Set: 0.9821428571428571\n",
      "Accuracy on Test Set: 0.9736842105263158\n"
     ]
    }
   ],
   "source": [
    "# Since this increased our accuracy, I'm now going to increase the max iterations\n",
    "mlp=MLPClassifier(random_state=42, hidden_layer_sizes=[120], max_iter=1000)\n",
    "mlp.fit(X_train, y_train)\n",
    "\n",
    "print(\"Accuracy on Training Set:\", mlp.score(X_train, y_train))\n",
    "print(\"Accuracy on Test Set:\", mlp.score(X_test, y_test))"
   ]
  },
  {
   "cell_type": "code",
   "execution_count": 11,
   "metadata": {},
   "outputs": [
    {
     "name": "stdout",
     "output_type": "stream",
     "text": [
      "Accuracy on Training Set: 0.9910714285714286\n",
      "Accuracy on Test Set: 0.9736842105263158\n"
     ]
    }
   ],
   "source": [
    "# Increasing the iterations really helped our model! Now I will add a second hidden layer\n",
    "mlp=MLPClassifier(random_state=42, hidden_layer_sizes=[120, 120], max_iter=1000)\n",
    "mlp.fit(X_train, y_train)\n",
    "\n",
    "print(\"Accuracy on Training Set:\", mlp.score(X_train, y_train))\n",
    "print(\"Accuracy on Test Set:\", mlp.score(X_test, y_test))"
   ]
  },
  {
   "cell_type": "code",
   "execution_count": 12,
   "metadata": {},
   "outputs": [
    {
     "name": "stdout",
     "output_type": "stream",
     "text": [
      "Accuracy on Training Set: 0.9910714285714286\n",
      "Accuracy on Test Set: 0.9736842105263158\n"
     ]
    }
   ],
   "source": [
    "# This increased our training set, but not our test set. I will try one last thing, increase the alpha to 1\n",
    "mlp=MLPClassifier(random_state=42, hidden_layer_sizes=[120, 120], max_iter=1000, alpha=1)\n",
    "mlp.fit(X_train, y_train)\n",
    "\n",
    "print(\"Accuracy on Training Set:\", mlp.score(X_train, y_train))\n",
    "print(\"Accuracy on Test Set:\", mlp.score(X_test, y_test))"
   ]
  },
  {
   "cell_type": "code",
   "execution_count": null,
   "metadata": {},
   "outputs": [],
   "source": [
    "# Neither the training nor test set increased their accuracy. It seems like this is the highest accuarcy we get, \n",
    "# even with other models. According to the book, this is probably due to the dataset being so small. Since this is the\n",
    "# highest we can get, I will stop tuning the model.\n"
   ]
  }
 ],
 "metadata": {
  "kernelspec": {
   "display_name": "Python 3",
   "language": "python",
   "name": "python3"
  },
  "language_info": {
   "codemirror_mode": {
    "name": "ipython",
    "version": 3
   },
   "file_extension": ".py",
   "mimetype": "text/x-python",
   "name": "python",
   "nbconvert_exporter": "python",
   "pygments_lexer": "ipython3",
   "version": "3.7.3"
  }
 },
 "nbformat": 4,
 "nbformat_minor": 2
}
